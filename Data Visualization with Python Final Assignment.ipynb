{
 "cells": [
  {
   "cell_type": "markdown",
   "id": "247a4f5f",
   "metadata": {},
   "source": [
    "Data Visualization with Python Final Assignment"
   ]
  },
  {
   "cell_type": "code",
   "execution_count": 2,
   "id": "e52f4348",
   "metadata": {},
   "outputs": [],
   "source": [
    "import pandas as pd\n",
    "import numpy as np"
   ]
  },
  {
   "cell_type": "markdown",
   "id": "ba268173",
   "metadata": {},
   "source": [
    "Q1.\n",
    "\n",
    "A survey was conducted to gauge an audience interest in different data science topics, namely:\n",
    "\n",
    "Big Data (Spark / Hadoop)\n",
    "Data Analysis / Statistics\n",
    "Data Journalism\n",
    "Data Visualization\n",
    "Deep Learning\n",
    "Machine Learning\n",
    "The participants had three options for each topic: Very Interested, Somewhat interested, and Not interested. 2,233 respondents completed the survey.\n",
    "\n",
    "The survey results have been saved in a csv file and can be accessed through this link: https://cocl.us/datascience_survey_data.\n",
    "\n",
    "If you examine the csv file, you will find that the first column represents the data science topics and the first row represents the choices for each topic.\n",
    "\n",
    "Use the pandas read_csv method to read the csv file into a pandas dataframe"
   ]
  },
  {
   "cell_type": "code",
   "execution_count": 3,
   "id": "19e562fd",
   "metadata": {},
   "outputs": [
    {
     "data": {
      "text/html": [
       "<div>\n",
       "<style scoped>\n",
       "    .dataframe tbody tr th:only-of-type {\n",
       "        vertical-align: middle;\n",
       "    }\n",
       "\n",
       "    .dataframe tbody tr th {\n",
       "        vertical-align: top;\n",
       "    }\n",
       "\n",
       "    .dataframe thead th {\n",
       "        text-align: right;\n",
       "    }\n",
       "</style>\n",
       "<table border=\"1\" class=\"dataframe\">\n",
       "  <thead>\n",
       "    <tr style=\"text-align: right;\">\n",
       "      <th></th>\n",
       "      <th>Very interested</th>\n",
       "      <th>Somewhat interested</th>\n",
       "      <th>Not interested</th>\n",
       "    </tr>\n",
       "  </thead>\n",
       "  <tbody>\n",
       "    <tr>\n",
       "      <th>Big Data (Spark / Hadoop)</th>\n",
       "      <td>1332</td>\n",
       "      <td>729</td>\n",
       "      <td>127</td>\n",
       "    </tr>\n",
       "    <tr>\n",
       "      <th>Data Analysis / Statistics</th>\n",
       "      <td>1688</td>\n",
       "      <td>444</td>\n",
       "      <td>60</td>\n",
       "    </tr>\n",
       "    <tr>\n",
       "      <th>Data Journalism</th>\n",
       "      <td>429</td>\n",
       "      <td>1081</td>\n",
       "      <td>610</td>\n",
       "    </tr>\n",
       "    <tr>\n",
       "      <th>Data Visualization</th>\n",
       "      <td>1340</td>\n",
       "      <td>734</td>\n",
       "      <td>102</td>\n",
       "    </tr>\n",
       "    <tr>\n",
       "      <th>Deep Learning</th>\n",
       "      <td>1263</td>\n",
       "      <td>770</td>\n",
       "      <td>136</td>\n",
       "    </tr>\n",
       "    <tr>\n",
       "      <th>Machine Learning</th>\n",
       "      <td>1629</td>\n",
       "      <td>477</td>\n",
       "      <td>74</td>\n",
       "    </tr>\n",
       "  </tbody>\n",
       "</table>\n",
       "</div>"
      ],
      "text/plain": [
       "                            Very interested  Somewhat interested  \\\n",
       "Big Data (Spark / Hadoop)              1332                  729   \n",
       "Data Analysis / Statistics             1688                  444   \n",
       "Data Journalism                         429                 1081   \n",
       "Data Visualization                     1340                  734   \n",
       "Deep Learning                          1263                  770   \n",
       "Machine Learning                       1629                  477   \n",
       "\n",
       "                            Not interested  \n",
       "Big Data (Spark / Hadoop)              127  \n",
       "Data Analysis / Statistics              60  \n",
       "Data Journalism                        610  \n",
       "Data Visualization                     102  \n",
       "Deep Learning                          136  \n",
       "Machine Learning                        74  "
      ]
     },
     "execution_count": 3,
     "metadata": {},
     "output_type": "execute_result"
    }
   ],
   "source": [
    "df = pd.read_csv('https://s3-api.us-geo.objectstorage.softlayer.net/cf-courses-data/CognitiveClass/DV0101EN/labs/coursera/Topic_Survey_Assignment.csv',\n",
    "                index_col=0)\n",
    "df"
   ]
  },
  {
   "cell_type": "code",
   "execution_count": 4,
   "id": "17ce2624",
   "metadata": {},
   "outputs": [
    {
     "data": {
      "text/html": [
       "<div>\n",
       "<style scoped>\n",
       "    .dataframe tbody tr th:only-of-type {\n",
       "        vertical-align: middle;\n",
       "    }\n",
       "\n",
       "    .dataframe tbody tr th {\n",
       "        vertical-align: top;\n",
       "    }\n",
       "\n",
       "    .dataframe thead th {\n",
       "        text-align: right;\n",
       "    }\n",
       "</style>\n",
       "<table border=\"1\" class=\"dataframe\">\n",
       "  <thead>\n",
       "    <tr style=\"text-align: right;\">\n",
       "      <th></th>\n",
       "      <th>Very interested</th>\n",
       "      <th>Somewhat interested</th>\n",
       "      <th>Not interested</th>\n",
       "    </tr>\n",
       "  </thead>\n",
       "  <tbody>\n",
       "    <tr>\n",
       "      <th>Data Analysis / Statistics</th>\n",
       "      <td>75.59</td>\n",
       "      <td>19.88</td>\n",
       "      <td>2.69</td>\n",
       "    </tr>\n",
       "    <tr>\n",
       "      <th>Machine Learning</th>\n",
       "      <td>72.95</td>\n",
       "      <td>21.36</td>\n",
       "      <td>3.31</td>\n",
       "    </tr>\n",
       "    <tr>\n",
       "      <th>Data Visualization</th>\n",
       "      <td>60.01</td>\n",
       "      <td>32.87</td>\n",
       "      <td>4.57</td>\n",
       "    </tr>\n",
       "    <tr>\n",
       "      <th>Big Data (Spark / Hadoop)</th>\n",
       "      <td>59.65</td>\n",
       "      <td>32.65</td>\n",
       "      <td>5.69</td>\n",
       "    </tr>\n",
       "    <tr>\n",
       "      <th>Deep Learning</th>\n",
       "      <td>56.56</td>\n",
       "      <td>34.48</td>\n",
       "      <td>6.09</td>\n",
       "    </tr>\n",
       "    <tr>\n",
       "      <th>Data Journalism</th>\n",
       "      <td>19.21</td>\n",
       "      <td>48.41</td>\n",
       "      <td>27.32</td>\n",
       "    </tr>\n",
       "  </tbody>\n",
       "</table>\n",
       "</div>"
      ],
      "text/plain": [
       "                            Very interested  Somewhat interested  \\\n",
       "Data Analysis / Statistics            75.59                19.88   \n",
       "Machine Learning                      72.95                21.36   \n",
       "Data Visualization                    60.01                32.87   \n",
       "Big Data (Spark / Hadoop)             59.65                32.65   \n",
       "Deep Learning                         56.56                34.48   \n",
       "Data Journalism                       19.21                48.41   \n",
       "\n",
       "                            Not interested  \n",
       "Data Analysis / Statistics            2.69  \n",
       "Machine Learning                      3.31  \n",
       "Data Visualization                    4.57  \n",
       "Big Data (Spark / Hadoop)             5.69  \n",
       "Deep Learning                         6.09  \n",
       "Data Journalism                      27.32  "
      ]
     },
     "execution_count": 4,
     "metadata": {},
     "output_type": "execute_result"
    }
   ],
   "source": [
    "df.sort_values(['Very interested'], ascending=False, inplace=True)\n",
    "df_sorted_values = np.round((df/2233)*100,2)\n",
    "df_sorted_values"
   ]
  },
  {
   "cell_type": "markdown",
   "id": "2cb35f97",
   "metadata": {},
   "source": [
    "Q2\n",
    "\n",
    "Use the artist layer of Matplotlib to visualize the percentage of the respondents' interest in the different data science topics surveyed.\n",
    "\n",
    "To create this bar chart, you can follow the following steps:\n",
    "\n",
    "Sort the dataframe in descending order of Very interested.\n",
    "Convert the numbers into percentages of the total number of respondents. Recall that 2,233 respondents completed the survey. Round percentages to 2 decimal places.\n",
    "As for the chart:\n",
    "use a figure size of (20, 8),\n",
    "bar width of 0.8,\n",
    "use color #5cb85c for the Very interested bars, color #5bc0de for the Somewhat interested bars, and color #d9534f for the Not interested bars,\n",
    "use font size 14 for the bar labels, percentages, and legend,\n",
    "use font size 16 for the title, and,\n",
    "display the percentages above the bars as shown above, and remove the left, top, and right borders.\n"
   ]
  },
  {
   "cell_type": "code",
   "execution_count": null,
   "id": "7ab06e2a",
   "metadata": {},
   "outputs": [],
   "source": [
    "%matplotlib inline\n",
    "\n",
    "import matplotlib as mpl\n",
    "import matplotlib.pyplot as plt\n",
    "mpl.style.use('ggplot')"
   ]
  },
  {
   "cell_type": "code",
   "execution_count": null,
   "id": "1b710947",
   "metadata": {},
   "outputs": [],
   "source": [
    "ax = df_sorted_values.plot(kind='bar',\n",
    "            figsize=(20,8),\n",
    "            width=0.8,\n",
    "            color=['#5cb85c','#5bc0de','#d9534f'])\n",
    "\n",
    "#plot values\n",
    "ax.set_facecolor('white') # background color = white\n",
    "ax.tick_params(axis='x', colors='black', labelsize=14) # display x axis with size and color\n",
    "ax.axhline(0, color='black') # draw the x axis line\n",
    "ax.legend(fontsize=14, facecolor='white') # display legend background color = white and fontsize\n",
    "ax.set_title(\"Percentage of Respondents' Interest in Data Science Areas\", fontsize = 16)\n",
    "ax.tick_params(top=False, left=False, right=False, labelleft=False) # remove top,left,right and left label\n",
    "\n",
    "\n",
    "for p in ax.patches:   #display the percentages above the bars\n",
    "    width, height = p.get_width(), p.get_height()\n",
    "    x, y = p.get_xy() \n",
    "    ax.annotate('{}%'.format(height), (x, y + height + 1),fontsize=14)"
   ]
  },
  {
   "cell_type": "code",
   "execution_count": null,
   "id": "52c4fd0c",
   "metadata": {},
   "outputs": [],
   "source": [
    "crime_df=pd.read_csv('https://cocl.us/sanfran_crime_dataset')\n",
    "crime_df.head(5)"
   ]
  },
  {
   "cell_type": "markdown",
   "id": "be71594a",
   "metadata": {},
   "source": [
    "Q3.\n",
    "\n",
    "In the final lab, we created a map with markers to explore crime rate in San Francisco, California. In this question, you are required to create a Choropleth map to visualize crime in San Francisco.\n",
    "\n",
    "Before you are ready to start building the map, let's restructure the data so that it is in the right format for the Choropleth map. Essentially, you will need to create a dataframe that lists each neighborhood in San Francisco along with the corresponding total number of crimes.\n",
    "\n",
    "Based on the San Francisco crime dataset, you will find that San Francisco consists of 10 main neighborhoods, namely:\n",
    "\n",
    "Central,\n",
    "Southern,\n",
    "Bayview,\n",
    "Mission,\n",
    "Park,\n",
    "Richmond,\n",
    "Ingleside,\n",
    "Taraval,\n",
    "Northern, and,\n",
    "Tenderloin.\n",
    "Convert the San Francisco dataset, which you can also find here, https://cocl.us/sanfran_crime_dataset, into a pandas dataframe that represents the total number of crimes in each neighborhood."
   ]
  },
  {
   "cell_type": "code",
   "execution_count": null,
   "id": "cf995331",
   "metadata": {},
   "outputs": [],
   "source": [
    "crime_df.rename(columns={'PdDistrict':'Neighborhood'}, inplace=True)\n",
    "crime_data = crime_df.groupby(['Neighborhood']).size().reset_index(name='Count')\n",
    "crime_data"
   ]
  },
  {
   "cell_type": "code",
   "execution_count": null,
   "id": "b077ef1b",
   "metadata": {},
   "outputs": [],
   "source": [
    "# install folium\n",
    "!pip install folium\n",
    "\n",
    "import folium\n",
    "print('Installed Folium')"
   ]
  },
  {
   "cell_type": "markdown",
   "id": "4241d1de",
   "metadata": {},
   "source": [
    "Q4\n",
    "\n",
    "Now you should be ready to proceed with creating the Choropleth map.\n",
    "\n",
    "As you learned in the Choropleth maps lab, you will need a GeoJSON file that marks the boundaries of the different neighborhoods in San Francisco. In order to save you the hassle of looking for the right file, I already downloaded it for you and I am making it available via this link: https://cocl.us/sanfran_geojson.\n",
    "\n",
    "For the map, make sure that:\n",
    "\n",
    "it is centred around San Francisco, you use a zoom level of 12, you use fill_color = 'YlOrRd', you define fill_opacity = 0.7, you define line_opacity=0.2, and, you define a legend and use the default threshold scale.\n",
    "\n",
    "Generate the map"
   ]
  },
  {
   "cell_type": "code",
   "execution_count": null,
   "id": "953d64cf",
   "metadata": {},
   "outputs": [],
   "source": [
    "# download the map of sanfranciso\n",
    "!wget https://cocl.us/sanfran_geojson -O sanfran_geo.json"
   ]
  },
  {
   "cell_type": "code",
   "execution_count": null,
   "id": "d47fb361",
   "metadata": {},
   "outputs": [],
   "source": [
    "# Ready the map\n",
    "lat = 37.7749\n",
    "long = -122.4194\n",
    "\n",
    "sanfran_map= folium.Map(location=[lat,long], zoom_start=12)\n",
    "sanfran_map"
   ]
  }
 ],
 "metadata": {
  "kernelspec": {
   "display_name": "Python 3 (ipykernel)",
   "language": "python",
   "name": "python3"
  },
  "language_info": {
   "codemirror_mode": {
    "name": "ipython",
    "version": 3
   },
   "file_extension": ".py",
   "mimetype": "text/x-python",
   "name": "python",
   "nbconvert_exporter": "python",
   "pygments_lexer": "ipython3",
   "version": "3.9.13"
  }
 },
 "nbformat": 4,
 "nbformat_minor": 5
}
